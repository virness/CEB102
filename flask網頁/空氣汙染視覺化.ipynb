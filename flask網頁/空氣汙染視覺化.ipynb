{
 "cells": [
  {
   "cell_type": "markdown",
   "id": "4496e1b9",
   "metadata": {},
   "source": [
    "# 先引用套件 再設一個公式 起始值白色 這樣之後for loop就可以帶入"
   ]
  },
  {
   "cell_type": "code",
   "execution_count": null,
   "id": "d86b1bbe",
   "metadata": {},
   "outputs": [],
   "source": [
    "import folium\n",
    "import requests\n",
    "import re\n",
    "import os\n",
    "from time import gmtime,strftime,localtime\n",
    "import json"
   ]
  },
  {
   "cell_type": "code",
   "execution_count": null,
   "id": "fab31a5a",
   "metadata": {},
   "outputs": [],
   "source": [
    "def color_producer(values):\n",
    "    color=\"white\"\n",
    "    if values<=10 :\n",
    "        color = 'green'\n",
    "    elif values>10 and values<=15:\n",
    "        color = 'yellow'\n",
    "    elif values>15 and values<=20:\n",
    "        color= \"red\"\n",
    "    else:\n",
    "        color= \"purple\"\n",
    "    cr=  0.7\n",
    "    return [color,cr]"
   ]
  },
  {
   "cell_type": "markdown",
   "id": "0e7c980c",
   "metadata": {},
   "source": [
    "# 可以從json看到除了有 pm2.5_avg 縣市 還有 座標這樣就不用合併"
   ]
  },
  {
   "cell_type": "code",
   "execution_count": null,
   "id": "d04f92fb",
   "metadata": {},
   "outputs": [],
   "source": [
    "url ='https://data.epa.gov.tw/api/v2/aqx_p_432?api_key=e8dd42e6-9b8b-43f8-991e-b3dee723a52d&limit=1000&sort=ImportDate%20desc&format=JSON'\n",
    "html = requests.get(url)\n",
    "json=json.loads(html.text)\n",
    "json"
   ]
  },
  {
   "cell_type": "code",
   "execution_count": null,
   "id": "3f88567f",
   "metadata": {},
   "outputs": [],
   "source": [
    "#  m我們一樣設定中心位置  至於tiles以下類型\n",
    "# 「OpenStreetMap」\n",
    "# 「Mapbox Bright」 (Limited levels of zoom for free tiles)\n",
    "# 「Mapbox Control Room」 (Limited levels of zoom for free tiles)\n",
    "# 「Stamen」 (Terrain, Toner, and Watercolor)\n",
    "# 「Cloudmade」 (Must pass API key)\n",
    "# 「Mapbox」 (Must pass API key)\n",
    "# 「CartoDB」 (positron and dark_matter)\n",
    "m = folium.Map(location=(23.5,121), zoom_start=8,tiles='Stamen Terrain',title=\"全台PM2.5分布圖 資料來源:環境資料開放平臺\")\n",
    "folium.map.Marker(location=(23.7,121.5),icon=folium.DivIcon(icon_size=(300,36),icon_anchor=(0,0),html=\"<div style='font-size:1.8em;color:red;'>全台PM2.5分布圖 <br>資料來源:環境資料開放平臺 <br> 0-9綠<br> 10-15黃<br>16-20紅<br> >20 紫 </div>\")).add_to(m)\n",
    "#順便再做一個正規劃 去除不要的字元 \n",
    "isdigit = re.compile(r'^\\d+\\.*\\d*$')\n",
    "fg = folium.FeatureGroup(name=\"PM2.5\")"
   ]
  },
  {
   "cell_type": "markdown",
   "id": "5d4f1f87",
   "metadata": {},
   "source": [
    "#  開始用for loop將json下的records字典中資料一一提取\n",
    "#  如果資料的座標且符合正規化 就進行以下的動作"
   ]
  },
  {
   "cell_type": "code",
   "execution_count": null,
   "id": "b74b368c",
   "metadata": {},
   "outputs": [],
   "source": [
    "for j in json['records']: \n",
    "    pm225 = j[\"pm2.5_avg\"]\n",
    "    if j[\"latitude\"]!= \"\" and j[\"longitude\"]!=\"\" and isdigit.match(pm225) is not None:\n",
    "        values = int(pm225)\n",
    "        cc = color_producer(values)\n",
    "        loc = (j[\"latitude\"],j[\"longitude\"])\n",
    "# 我將tooltip設定關鍵字好讓視覺化更清楚 當然滑鼠移動到小圈圈內也是有資料\n",
    "        fg.add_child(folium.CircleMarker(location=loc,radius=10,tooltip=j['county']+j[\"sitename\"]+'\\n'+'PM2.5值:'+j['pm2.5_avg'],\n",
    "            fill_color=cc[0],color = 'grey',fill_opacity=cc[1]))\n",
    "m.add_child(fg)                    \n",
    "\n",
    "# m.save('pm25.html')"
   ]
  },
  {
   "cell_type": "markdown",
   "id": "d7624271",
   "metadata": {},
   "source": [
    "# 最後 天氣那篇爬蟲因為沒有縣市座標 從這邊抓取存入"
   ]
  },
  {
   "cell_type": "code",
   "execution_count": null,
   "id": "f8b1a865",
   "metadata": {},
   "outputs": [],
   "source": [
    "import pandas as pd\n",
    "data=[]\n",
    "for j in json['records']: \n",
    "    county=j['county']\n",
    "    lat=j['latitude']\n",
    "    log=j[\"longitude\"]\n",
    "    data.append([county,lat,log])\n",
    "    df=pd.read_excel('county.xlsx')"
   ]
  }
 ],
 "metadata": {
  "kernelspec": {
   "display_name": "Python 3 (ipykernel)",
   "language": "python",
   "name": "python3"
  },
  "language_info": {
   "codemirror_mode": {
    "name": "ipython",
    "version": 3
   },
   "file_extension": ".py",
   "mimetype": "text/x-python",
   "name": "python",
   "nbconvert_exporter": "python",
   "pygments_lexer": "ipython3",
   "version": "3.9.13"
  }
 },
 "nbformat": 4,
 "nbformat_minor": 5
}
