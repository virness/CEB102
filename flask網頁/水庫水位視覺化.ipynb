{
 "cells": [
  {
   "cell_type": "markdown",
   "id": "3b4249e0",
   "metadata": {},
   "source": [
    "# 水庫水位與視覺化"
   ]
  },
  {
   "cell_type": "code",
   "execution_count": null,
   "id": "f4639713",
   "metadata": {},
   "outputs": [],
   "source": [
    "import requests,json\n",
    "import pandas as pd \n",
    "import numpy as np\n",
    "from pyecharts import options as opts\n",
    "from pyecharts.charts import Liquid"
   ]
  },
  {
   "cell_type": "markdown",
   "id": "010d96dc",
   "metadata": {},
   "source": [
    "# 爬蟲必須先做成一個偽瀏覽器好像網頁不覺得你是機器人\n",
    "# 再透過 pandas讀取html可以馬上抓下所需的資料 剩下就是清洗"
   ]
  },
  {
   "cell_type": "code",
   "execution_count": null,
   "id": "2089b20a",
   "metadata": {},
   "outputs": [],
   "source": [
    "headers = {'User-Agent': 'Mozilla/5.0 (Windows NT 10.0; Win64; x64) AppleWebKit/537.36 (KHTML, like Gecko) Chrome/89.0.4389.90 Safari/537.36'}\n",
    "url='https://fhy.wra.gov.tw/ReservoirPage_2011/StorageCapacity.aspx'\n",
    "res=requests.get(url,headers=headers)\n",
    "df = pd.read_html(res.text, encoding='utf-8',header=0)[0]\n",
    "df"
   ]
  },
  {
   "cell_type": "markdown",
   "id": "4e47b862",
   "metadata": {},
   "source": [
    "# 我們要繪製成動態圖 所需資料只需 水庫名稱、更新時間、蓄水百分比"
   ]
  },
  {
   "cell_type": "markdown",
   "id": "69d6feb6",
   "metadata": {},
   "source": [
    "# 將欄位變更 好讓我們可以存入pandas"
   ]
  },
  {
   "cell_type": "code",
   "execution_count": null,
   "id": "3eba42ce",
   "metadata": {},
   "outputs": [],
   "source": [
    "df['更新時間'] =df['即時水情資料']\n",
    "df['即時水位 %'] =df['即時水情資料.3']\n",
    "df"
   ]
  },
  {
   "cell_type": "markdown",
   "id": "e063aaa1",
   "metadata": {},
   "source": [
    "# 可以看出 首項與末項 都是文字這時候我們就把它去掉"
   ]
  },
  {
   "cell_type": "code",
   "execution_count": null,
   "id": "72af01ff",
   "metadata": {},
   "outputs": [],
   "source": [
    "columns = ['水庫名稱','更新時間','即時水位 %']\n",
    "waterdf = pd.DataFrame(data=df, columns=columns)\n",
    "waterdf"
   ]
  },
  {
   "cell_type": "markdown",
   "id": "ce1791e7",
   "metadata": {},
   "source": [
    "# 去掉後 因為視覺化所需的僅能為數字 用strip掉 % --等等特殊字元"
   ]
  },
  {
   "cell_type": "code",
   "execution_count": null,
   "id": "44d09ccd",
   "metadata": {},
   "outputs": [],
   "source": [
    "waterdf=waterdf[1:]\n",
    "waterdf=waterdf[:-1]\n",
    "waterdf['即時水位 %']=waterdf['即時水位 %'].str.replace('%','')\n",
    "waterdf['即時水位 %']=waterdf['即時水位 %'].str.replace('--','0')\n",
    "waterdf"
   ]
  },
  {
   "cell_type": "markdown",
   "id": "6874e5aa",
   "metadata": {},
   "source": [
    "# 將檔案存入 excel ，不使用csv而是xlsx是因為編碼問題就沒了"
   ]
  },
  {
   "cell_type": "code",
   "execution_count": null,
   "id": "8124a221",
   "metadata": {},
   "outputs": [],
   "source": [
    "waterdf.to_excel('water.xlsx')"
   ]
  },
  {
   "cell_type": "markdown",
   "id": "eff6ce26",
   "metadata": {},
   "source": [
    "# 先用表格去看結果"
   ]
  },
  {
   "cell_type": "code",
   "execution_count": null,
   "id": "a3afdefd",
   "metadata": {},
   "outputs": [],
   "source": [
    "import pandas as pd\n",
    "from pyecharts import options as opts\n",
    "from pyecharts.charts import Liquid\n",
    "df=pd.read_excel('water.xlsx')\n",
    "df"
   ]
  },
  {
   "cell_type": "markdown",
   "id": "966348a5",
   "metadata": {},
   "source": [
    "# 我們繪製成流動圖只要將數值丟給Liquid 還有 給他名稱這樣就可以顯示"
   ]
  },
  {
   "cell_type": "code",
   "execution_count": null,
   "id": "3ebd8be0",
   "metadata": {},
   "outputs": [],
   "source": [
    "df1=(df['即時水位 %'])/100\n",
    "df2=df['水庫名稱'][0]\n",
    "c = (Liquid().add(\"lq\", [df1[0]]).set_global_opts(title_opts=opts.TitleOpts(title=df2)))\n",
    "c.render_notebook()\n",
    "# c.render(f'{df2}.html')"
   ]
  }
 ],
 "metadata": {
  "kernelspec": {
   "display_name": "Python 3 (ipykernel)",
   "language": "python",
   "name": "python3"
  },
  "language_info": {
   "codemirror_mode": {
    "name": "ipython",
    "version": 3
   },
   "file_extension": ".py",
   "mimetype": "text/x-python",
   "name": "python",
   "nbconvert_exporter": "python",
   "pygments_lexer": "ipython3",
   "version": "3.9.13"
  }
 },
 "nbformat": 4,
 "nbformat_minor": 5
}
