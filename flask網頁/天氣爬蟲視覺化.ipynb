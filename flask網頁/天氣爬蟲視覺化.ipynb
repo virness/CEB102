{
 "cells": [
  {
   "cell_type": "markdown",
   "id": "19d4975a",
   "metadata": {},
   "source": [
    "# 資料可以從氣象開放平台去下載 但需要先去註冊"
   ]
  },
  {
   "cell_type": "markdown",
   "id": "19a7e9ed",
   "metadata": {},
   "source": [
    "# https://opendata.cwb.gov.tw/index"
   ]
  },
  {
   "cell_type": "markdown",
   "id": "2a8fbc80",
   "metadata": {},
   "source": [
    "# 註冊好後 會給你一個授權碼就可以查詢裡面的資料 再到 https://opendata.cwb.gov.tw/dataset/forecast/F-C0032-001"
   ]
  },
  {
   "cell_type": "code",
   "execution_count": null,
   "id": "a622d4a1",
   "metadata": {},
   "outputs": [],
   "source": [
    "import requests\n",
    "import pandas as pd\n",
    "import json\n",
    "\n",
    "url = 'https://opendata.cwb.gov.tw/api/v1/rest/datastore/F-C0032-001?Authorization='\n",
    "data = requests.get(url)   # 取得 JSON 檔案的內容為文字\n",
    "data_json = data.json()   # 轉換成 JSON 格式\n",
    "location = data_json['records']['location']   # 取出 location 的內容\n",
    "location\n"
   ]
  },
  {
   "cell_type": "markdown",
   "id": "a0acc883",
   "metadata": {},
   "source": [
    "# 跟水庫水位不同的是 這邊資料因為有授權碼可以直接抓取就不須偽瀏覽器"
   ]
  },
  {
   "cell_type": "code",
   "execution_count": null,
   "id": "03609ca9",
   "metadata": {},
   "outputs": [],
   "source": [
    "#先設置一個list之後要將for loop丟入到data\n",
    "data=[]  \n",
    "for i in location:\n",
    "        city = i['locationName']    # 縣市名稱\n",
    "        mint8 = i['weatherElement'][2]['time'][2]['parameter']['parameterName']  # 最低溫\n",
    "        maxt8 = i['weatherElement'][4]['time'][1]['parameter']['parameterName']  # 最高溫\n",
    "        pop8 = i['weatherElement'][1]['time'][0]['parameter']['parameterName']+' %'   # 降雨機率  \n",
    "        pop = i['weatherElement'][1]['time'][0]['parameter']['parameterName']   # 降雨機率 \n",
    "        data.append([city,f'{mint8+\"~\"+maxt8}',pop8,pop])\n",
    "data"
   ]
  },
  {
   "cell_type": "markdown",
   "id": "742ccfd4",
   "metadata": {},
   "source": [
    "# 接下來將資料存入xlsx 先給欄位 我們這次將最高最低溫合成溫度範圍\n",
    "# 再來要把台灣的行政地圖簡版 跟 weather.xlsx合併這樣就有座標"
   ]
  },
  {
   "cell_type": "markdown",
   "id": "dd948c7f",
   "metadata": {},
   "source": [
    "# 台灣行政地圖簡版可以從另一篇 pm25那邊獲得 "
   ]
  },
  {
   "cell_type": "code",
   "execution_count": null,
   "id": "a9593b2f",
   "metadata": {},
   "outputs": [],
   "source": [
    "columns=['縣市','溫度預估','降雨機率 %','降雨']\n",
    "df=pd.DataFrame(data,columns=columns)\n",
    "df.to_excel('weather.xlsx')\n",
    "\n",
    "data1=pd.read_excel('county.xlsx')\n",
    "data2=pd.read_excel('weather.xlsx')\n",
    "data1 = data1.merge(data2,left_on=('縣市'),right_on=('縣市'))\n",
    "data1.to_excel('weather-map.xlsx')\n",
    "data1"
   ]
  },
  {
   "cell_type": "markdown",
   "id": "36081d95",
   "metadata": {},
   "source": [
    "# 在這邊要先創一個函式 用降雨機率去判斷顏色深淺\n",
    "# 最後我們讀取 weather-map.xlsx 透過 folium這個套件完成繪圖\n",
    "# 這個方式雖然無法做成區塊狀顯示而是用circlemarker 但速度極快\n",
    "# 反之用geopandas+plotly完成的則可以更清楚 缺點是顯示速度非常久\n",
    "# 必須讀取檔案較大的座標"
   ]
  },
  {
   "cell_type": "code",
   "execution_count": null,
   "id": "b0e37d6d",
   "metadata": {},
   "outputs": [],
   "source": [
    "import pandas as pd\n",
    "import folium,requests,re,os,json\n",
    "\n",
    "data = pd.read_excel('weather-map.xlsx',index_col='縣市')\n",
    "data =data.drop('Unnamed: 0',axis=1)\n",
    "\n",
    "# m先設定基本的座標 預設遠近\n",
    "m = folium.Map(location=(23.5,121), zoom_start=8,title=\"天氣預報分布圖 資料來源:氣象局\")\n",
    "# 地圖需要說明不然僅有顏色無法知道 這樣就不夠視覺化了\n",
    "folium.map.Marker(location=(23.7,121.5),icon=folium.DivIcon(icon_size=(300,36),icon_anchor=(0,0),html=\"<div style='font-size:1.8em;color:black;'>天氣預報 <br>資料來源:環境資料開放平臺 <br> 20%以下綠色<br> 20-50黃色<br>50-70 紅色<br>  70>藍色 </div>\")).add_to(m)\n",
    "fg = folium.FeatureGroup(name=\"weather\")\n",
    "def color_producer(values):\n",
    "    color=\"white\"\n",
    "    if values<=20 :\n",
    "        color = 'green'\n",
    "    elif values>20 and values<=50:\n",
    "        color = 'yellow'\n",
    "    elif values>50 and values<=70:\n",
    "        color= \"red\"\n",
    "    else:\n",
    "        color= \"blue\"\n",
    "    cr=  0.7\n",
    "    return [color,cr]\n",
    "\n",
    "for index,location in data.iterrows(): \n",
    "    values = location['降雨']\n",
    "    cc = color_producer(values)\n",
    "    fg.add_child(folium.CircleMarker([location['lat'],location['log']], radius = 15,tooltip=(index+'\\n'+'溫度預估:'+location['溫度預估']+'\\n'+'降雨機率'+location['降雨機率 %']),fill_color=cc[0],color='grey',fill_opacity=cc[1]))\n",
    "\n",
    "m.add_child(fg)                    \n",
    "\n",
    "# m.save('templates/weathers.html')"
   ]
  }
 ],
 "metadata": {
  "kernelspec": {
   "display_name": "Python 3 (ipykernel)",
   "language": "python",
   "name": "python3"
  },
  "language_info": {
   "codemirror_mode": {
    "name": "ipython",
    "version": 3
   },
   "file_extension": ".py",
   "mimetype": "text/x-python",
   "name": "python",
   "nbconvert_exporter": "python",
   "pygments_lexer": "ipython3",
   "version": "3.9.13"
  }
 },
 "nbformat": 4,
 "nbformat_minor": 5
}
